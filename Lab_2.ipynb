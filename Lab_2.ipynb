{
 "cells": [
  {
   "cell_type": "markdown",
   "metadata": {},
   "source": [
    "# Kuzushiji Classification with Support Vector Machines\n",
    "\n",
    "In this notebook we are going to explore the use of Support Vector Machines (SVM) for image classification. We will use a variant of the famous MNIST dataset (the original is a dataset of handwritten digits). The version we are going to use is called Kuzushiji-MNIST or K-MNIST for short (https://github.com/rois-codh/kmnist) and is a dataset of traditional japanese handwritten kana.\n",
    "\n",
    "\n",
    "\n",
    "The dataset labels are the following:\n",
    "\n",
    "| Label | Hiragana Character | Romanji (Pronunciation) |\n",
    "| :-: | :-: | :-: |\n",
    "|   0   | お | o |\n",
    "| 1 | き | ki |\n",
    "| 2 | す | su |\n",
    "| 3 | つ | tsu |\n",
    "| 4 | な | na |\n",
    "| 5 | は | ha |\n",
    "| 6 | ま | ma |\n",
    "| 7 | や | ya |\n",
    "| 8 | れ | re |\n",
    "| 9 | を | wo |"
   ]
  },
  {
   "cell_type": "code",
   "execution_count": 1,
   "metadata": {},
   "outputs": [],
   "source": [
    "#load the required packages\n",
    "\n",
    "%matplotlib inline  \n",
    "\n",
    "import numpy as np\n",
    "import scipy as sp\n",
    "import matplotlib.pyplot as plt\n",
    "\n",
    "import sklearn\n",
    "from sklearn.datasets import fetch_openml\n",
    "from sklearn.neural_network import MLPClassifier\n",
    "from sklearn.decomposition import PCA\n",
    "import sklearn.metrics as skm\n",
    "\n",
    "import os\n",
    "import gzip\n",
    "import numpy as np"
   ]
  },
  {
   "cell_type": "code",
   "execution_count": 2,
   "metadata": {},
   "outputs": [],
   "source": [
    "# helper function to load Kuzushiji-MNIST dataset\n",
    "def load_mnist(path, kind='train'):\n",
    "    labels_path = os.path.join(path, 'K%s-labels-idx1-ubyte.gz' % kind)\n",
    "    images_path = os.path.join(path, 'K%s-images-idx3-ubyte.gz' % kind)\n",
    "    with gzip.open(labels_path, 'rb') as lbpath:\n",
    "        labels = np.frombuffer(lbpath.read(), dtype=np.uint8,offset=8)\n",
    "    with gzip.open(images_path, 'rb') as imgpath:\n",
    "        images = np.frombuffer(imgpath.read(), dtype=np.uint8,offset=16).reshape(len(labels), 784)\n",
    "    return images, labels"
   ]
  },
  {
   "cell_type": "code",
   "execution_count": 3,
   "metadata": {},
   "outputs": [],
   "source": [
    "num = 2072050\n",
    "np.random.seed(num)"
   ]
  },
  {
   "cell_type": "code",
   "execution_count": 4,
   "metadata": {},
   "outputs": [
    {
     "name": "stdout",
     "output_type": "stream",
     "text": [
      "(60000, 784) (60000,)\n"
     ]
    }
   ],
   "source": [
    "#load the K-MNIST dataset from the 'data' folder and let's normalize the features so that each value is in [0,1] \n",
    "\n",
    "X, y = load_mnist('data', kind='train')\n",
    "# rescale the data\n",
    "X, y = X / 255., y # original pixel values are between 0 and 255\n",
    "print(X.shape, y.shape)"
   ]
  },
  {
   "cell_type": "markdown",
   "metadata": {},
   "source": [
    "Now split into training and test. Make sure that each label is present at least 10 times\n",
    "in training. If it is not, then keep adding permutations to the initial data until this \n",
    "happens."
   ]
  },
  {
   "cell_type": "code",
   "execution_count": 5,
   "metadata": {},
   "outputs": [
    {
     "name": "stdout",
     "output_type": "stream",
     "text": [
      "Labels in training dataset:  [0 1 2 3 4 5 6 7 8 9]\n",
      "Frequencies in training dataset:  [73 50 65 49 60 60 61 66 64 52]\n"
     ]
    }
   ],
   "source": [
    "# Random permute the data and split into training and test taking the first 600\n",
    "# data samples as training and 4000 samples as test\n",
    "permutation = np.random.permutation(X.shape[0])\n",
    "\n",
    "X = X[permutation]\n",
    "y = y[permutation]\n",
    "\n",
    "m_training = 600\n",
    "m_test = 4000\n",
    "\n",
    "X_train, X_test = X[:m_training], X[m_training:m_training+m_test:]\n",
    "y_train, y_test = y[:m_training], y[m_training:m_training+m_test:]\n",
    "\n",
    "labels, freqs = np.unique(y_train, return_counts=True)\n",
    "print(\"Labels in training dataset: \", labels)\n",
    "print(\"Frequencies in training dataset: \", freqs)\n"
   ]
  },
  {
   "cell_type": "code",
   "execution_count": 6,
   "metadata": {},
   "outputs": [],
   "source": [
    "#function for plotting an image and printing the corresponding label\n",
    "def plot_input(X_matrix, labels, index):\n",
    "    print(\"INPUT:\")\n",
    "    plt.imshow(\n",
    "        X_matrix[index].reshape(28,28),\n",
    "        cmap          = plt.cm.gray_r,\n",
    "        interpolation = \"nearest\"\n",
    "    )\n",
    "    plt.show()\n",
    "    print(\"LABEL: %i\"%labels[index])\n",
    "    return"
   ]
  },
  {
   "cell_type": "code",
   "execution_count": 7,
   "metadata": {},
   "outputs": [
    {
     "name": "stdout",
     "output_type": "stream",
     "text": [
      "INPUT:\n"
     ]
    },
    {
     "data": {
      "image/png": "[encoded data removed]",
      "text/plain": [
       "<Figure size 432x288 with 1 Axes>"
      ]
     },
     "metadata": {
      "needs_background": "light"
     },
     "output_type": "display_data"
    },
    {
     "name": "stdout",
     "output_type": "stream",
     "text": [
      "LABEL: 8\n",
      "INPUT:\n"
     ]
    },
    {
     "data": {
      "image/png": "[encoded data removed]",
      "text/plain": [
       "<Figure size 432x288 with 1 Axes>"
      ]
     },
     "metadata": {
      "needs_background": "light"
     },
     "output_type": "display_data"
    },
    {
     "name": "stdout",
     "output_type": "stream",
     "text": [
      "LABEL: 1\n",
      "INPUT:\n"
     ]
    },
    {
     "data": {
      "image/png": "[encoded data removed]",
      "text/plain": [
       "<Figure size 432x288 with 1 Axes>"
      ]
     },
     "metadata": {
      "needs_background": "light"
     },
     "output_type": "display_data"
    },
    {
     "name": "stdout",
     "output_type": "stream",
     "text": [
      "LABEL: 5\n",
      "INPUT:\n"
     ]
    },
    {
     "data": {
      "image/png": "[encoded data removed]",
      "text/plain": [
       "<Figure size 432x288 with 1 Axes>"
      ]
     },
     "metadata": {
      "needs_background": "light"
     },
     "output_type": "display_data"
    },
    {
     "name": "stdout",
     "output_type": "stream",
     "text": [
      "LABEL: 9\n"
     ]
    }
   ],
   "source": [
    "#let's try the plotting function\n",
    "plot_input(X_train,y_train,5)\n",
    "plot_input(X_test,y_test,50)\n",
    "plot_input(X_test,y_test,500)\n",
    "plot_input(X_test,y_test,700)"
   ]
  },
  {
   "cell_type": "markdown",
   "metadata": {},
   "source": [
    "\n",
    "Use a SVM classifier with cross validation to pick a model. Use a 4-fold cross-validation. Let's start with a Linear kernel:"
   ]
  },
  {
   "cell_type": "code",
   "execution_count": 8,
   "metadata": {},
   "outputs": [
    {
     "name": "stdout",
     "output_type": "stream",
     "text": [
      "RESULTS FOR LINEAR KERNEL\n",
      "Best parameters set found: {'C': 0.1}\n",
      "Score with best parameters:  0.755\n",
      "All scores on the grid: [0.75333333 0.755      0.755      0.755     ]\n"
     ]
    }
   ],
   "source": [
    "#import SVC\n",
    "from sklearn.svm import SVC\n",
    "#import for Cross-Validation\n",
    "from sklearn.model_selection import GridSearchCV\n",
    "\n",
    "# parameters for linear SVM\n",
    "parameters = {'C': [0.01, 0.1, 1, 10]}\n",
    "\n",
    "#train linear SVM\n",
    "svc = SVC(kernel='linear')\n",
    "clf = GridSearchCV(svc, parameters, cv=4)\n",
    "clf.fit(X_train,y_train)\n",
    "\n",
    "print ('RESULTS FOR LINEAR KERNEL')\n",
    "\n",
    "print(\"Best parameters set found:\", clf.best_params_)\n",
    "\n",
    "print(\"Score with best parameters: \", f\"{clf.best_score_:.6}\")\n",
    "\n",
    "print(\"All scores on the grid:\", clf.cv_results_['mean_test_score'])"
   ]
  },
  {
   "cell_type": "markdown",
   "metadata": {},
   "source": [
    "Pick a model for the Polynomial kernel with degree=2:"
   ]
  },
  {
   "cell_type": "code",
   "execution_count": 9,
   "metadata": {},
   "outputs": [
    {
     "name": "stdout",
     "output_type": "stream",
     "text": [
      "RESULTS FOR POLY DEGREE=2 KERNEL\n",
      "Best parameters set found: {'C': 0.01, 'gamma': 0.1}\n",
      "Score with best parameters: 0.77\n",
      "\n",
      "All scores on the grid: [0.12166667 0.77       0.765      0.46333333 0.76666667 0.765\n",
      " 0.77       0.765      0.765     ]\n"
     ]
    }
   ],
   "source": [
    "# parameters for poly with degree 2 kernel\n",
    "parameters = {'C': [0.01, 0.1, 1],'gamma':[0.01,0.1,1]}\n",
    "\n",
    "#run SVM with poly of degree 2 kernel\n",
    "\n",
    "svc_p2 = SVC(kernel='poly', degree=2)\n",
    "clf_p2 = GridSearchCV(svc_p2, parameters, cv=4)\n",
    "clf_p2.fit(X_train,y_train)\n",
    "\n",
    "print ('RESULTS FOR POLY DEGREE=2 KERNEL')\n",
    "\n",
    "print(\"Best parameters set found:\", clf_p2.best_params_)\n",
    "\n",
    "print(\"Score with best parameters:\", clf_p2.best_score_)\n",
    "\n",
    "print(\"\\nAll scores on the grid:\", clf_p2.cv_results_['mean_test_score'])"
   ]
  },
  {
   "cell_type": "markdown",
   "metadata": {},
   "source": [
    "\n",
    "Now let's try a higher degree for the polynomial kernel (e.g., 3rd degree)."
   ]
  },
  {
   "cell_type": "code",
   "execution_count": 10,
   "metadata": {},
   "outputs": [
    {
     "name": "stdout",
     "output_type": "stream",
     "text": [
      "RESULTS FOR POLY DEGREE = 3  KERNEL\n",
      "Best parameters set found: {'C': 0.01, 'gamma': 0.1}\n",
      "Score with best parameters: 0.7116666666666667\n",
      "\n",
      "All scores on the grid: [0.12166667 0.71166667 0.69166667 0.41       0.68666667 0.69166667\n",
      " 0.70833333 0.69166667 0.69166667]\n"
     ]
    }
   ],
   "source": [
    "# parameters for poly with higher degree kernel\n",
    "parameters = {'C': [0.01, 0.1, 1],'gamma':[0.01,0.1,1]}\n",
    "\n",
    "#run SVM with poly of higher degree kernel\n",
    "degree = 3\n",
    "\n",
    "\n",
    "svc_p3 = SVC(kernel='poly', degree=degree)\n",
    "clf_p3 = GridSearchCV(svc_p3, parameters, cv=4)\n",
    "clf_p3.fit(X_train,y_train)\n",
    "\n",
    "print ('RESULTS FOR POLY DEGREE =', degree, ' KERNEL')\n",
    "\n",
    "print(\"Best parameters set found:\", clf_p3.best_params_)\n",
    "\n",
    "print(\"Score with best parameters:\", clf_p3.best_score_)\n",
    "\n",
    "print(\"\\nAll scores on the grid:\", clf_p3.cv_results_['mean_test_score'])"
   ]
  },
  {
   "cell_type": "markdown",
   "metadata": {},
   "source": [
    "\n",
    "Pick a model for the Radial Basis Function kernel:"
   ]
  },
  {
   "cell_type": "code",
   "execution_count": 11,
   "metadata": {},
   "outputs": [
    {
     "name": "stdout",
     "output_type": "stream",
     "text": [
      "RESULTS FOR rbf KERNEL\n",
      "Best parameters set found: {'C': 10, 'gamma': 0.01}\n",
      "Score with best parameters: 0.8150000000000001\n",
      "\n",
      "All scores on the grid: [0.12166667 0.195      0.12166667 0.12166667 0.63333333 0.77833333\n",
      " 0.13       0.12166667 0.77333333 0.815      0.14333333 0.12166667\n",
      " 0.77166667 0.815      0.14333333 0.12166667]\n"
     ]
    }
   ],
   "source": [
    "# parameters for rbf SVM\n",
    "parameters = {'C': [0.1, 1, 10, 100],'gamma':[0.001, 0.01, 0.1,1]}\n",
    "\n",
    "#run SVM with rbf kernel\n",
    "\n",
    "svc_rbf = SVC(kernel='rbf')\n",
    "clf_rbf = GridSearchCV(svc_rbf, parameters, cv=4)\n",
    "clf_rbf.fit(X_train,y_train)\n",
    "\n",
    "print ('RESULTS FOR rbf KERNEL')\n",
    "\n",
    "print(\"Best parameters set found:\", clf_rbf.best_params_)\n",
    "\n",
    "print(\"Score with best parameters:\", clf_rbf.best_score_)\n",
    "\n",
    "print(\"\\nAll scores on the grid:\", clf_rbf.cv_results_['mean_test_score'])"
   ]
  },
  {
   "cell_type": "markdown",
   "metadata": {},
   "source": [
    "Report here the best SVM kernel and parameters"
   ]
  },
  {
   "cell_type": "code",
   "execution_count": 12,
   "metadata": {},
   "outputs": [
    {
     "name": "stdout",
     "output_type": "stream",
     "text": [
      "Best SVM training error: 0.000000\n",
      "Best SVM test error: 0.188500\n"
     ]
    }
   ],
   "source": [
    "#get training and test error for the best SVM model from CV\n",
    "\n",
    "#the best SVM is with rbf kernel and C=10, gamma = 0.01, as it shows the highest score\n",
    "best_SVM = SVC(kernel='rbf', C=10, gamma = 0.01)\n",
    "best_SVM.fit(X_train,y_train)\n",
    "\n",
    "# (error is 1 - svm.score)\n",
    "\n",
    "training_error = 1 - best_SVM.score(X_train, y_train)\n",
    "\n",
    "test_error = 1 - best_SVM.score(X_test,y_test)\n",
    "\n",
    "print (\"Best SVM training error: %f\" % training_error)\n",
    "print (\"Best SVM test error: %f\" % test_error)"
   ]
  },
  {
   "cell_type": "markdown",
   "metadata": {},
   "source": [
    "\n",
    "Analyze how the gamma parameter (inversely proportional to standard deviation of Gaussian Kernel) impact the performances of the classifier"
   ]
  },
  {
   "cell_type": "code",
   "execution_count": 13,
   "metadata": {},
   "outputs": [
    {
     "name": "stdout",
     "output_type": "stream",
     "text": [
      "[1.e-05 1.e-04 1.e-03 1.e-02 1.e-01 1.e+00 1.e+01 1.e+02]\n"
     ]
    }
   ],
   "source": [
    "#Test with different values of gamma\n",
    "\n",
    "# Set gamma values\n",
    "gamma_values = np.logspace(-5,2,8)\n",
    "print(gamma_values)\n"
   ]
  },
  {
   "cell_type": "code",
   "execution_count": 14,
   "metadata": {},
   "outputs": [
    {
     "data": {
      "image/png": "[encoded data removed]",
      "text/plain": [
       "<Figure size 1080x360 with 2 Axes>"
      ]
     },
     "metadata": {
      "needs_background": "light"
     },
     "output_type": "display_data"
    }
   ],
   "source": [
    "# Try the SVM with the previously set values of gamma\n",
    "# use rbf kernel and C=1\n",
    "\n",
    "train_acc_list, test_acc_list = [], []\n",
    "\n",
    "\n",
    "SVM_gamma = np.array([])\n",
    "for i in gamma_values:\n",
    "    SVM_gamma = np.append(SVM_gamma, SVC(kernel='rbf', C=1, gamma = i))\n",
    "    \n",
    "for i in range(len(SVM_gamma)):\n",
    "    SVM_gamma[i].fit(X_train, y_train)\n",
    "    train_acc_list.append(SVM_gamma[i].score(X_train, y_train))\n",
    "    test_acc_list.append(SVM_gamma[i].score(X_test,y_test))\n",
    "\n",
    "# Plot\n",
    "fig, ax = plt.subplots(1,2, figsize=(15,5))\n",
    "\n",
    "ax[0].plot(gamma_values, train_acc_list)\n",
    "ax[0].set_xscale('log')\n",
    "ax[0].set_xlabel('gamma')\n",
    "ax[0].set_ylabel('Train accuracy')\n",
    "ax[0].grid(True)\n",
    "\n",
    "ax[1].plot(gamma_values, test_acc_list)\n",
    "ax[1].set_xscale('log')\n",
    "ax[1].set_xlabel('gamma')\n",
    "ax[1].set_ylabel('Test accuracy')\n",
    "ax[1].grid(True)\n",
    "\n",
    "\n",
    "plt.show()"
   ]
  },
  {
   "cell_type": "markdown",
   "metadata": {},
   "source": [
    "1) Train accuracy increases with increasing of gamma, becoming in the end 1 (the training error becomes zero). It means that the larger gamma, the better we can 'put' our training data into the right class.\n",
    "\n",
    "2) On the other hand, if we look at the test accuracy, we clearly can see a peak. Firstly with increasing of gamma test accuracy increases. But at value of $10^{-2}$ it reaches maximum and then drops.\n",
    "\n",
    "As we can see, there is an optimal value of gamma, because our goal is to have the best performance on the test data. If we have zero error on our training data and then extremly bad performance on our test data, then we are in a case of overfitting. We do not want this, so we choose gamma = $10^{-2}$ as it gives us the best performance on the test data (also the error on the training set is ~ 0)."
   ]
  },
  {
   "cell_type": "markdown",
   "metadata": {},
   "source": [
    "## More data\n",
    "Now let's do the same but using more data points for training.\n",
    "\n",
    "\n",
    "Choose a new number of data points."
   ]
  },
  {
   "cell_type": "code",
   "execution_count": 15,
   "metadata": {},
   "outputs": [
    {
     "name": "stdout",
     "output_type": "stream",
     "text": [
      "Labels in training dataset:  [0 1 2 3 4 5 6 7 8 9]\n",
      "Frequencies in training dataset:  [230 181 198 232 173 210 192 193 191 200]\n"
     ]
    }
   ],
   "source": [
    "X = X[permutation]\n",
    "y = y[permutation]\n",
    "\n",
    "m_training = 2000 # TODO number of data points, adjust depending on the capabilities of your PC\n",
    "\n",
    "X_train, X_test = X[:m_training], X[m_training:]\n",
    "y_train, y_test = y[:m_training], y[m_training:]\n",
    "\n",
    "labels, freqs = np.unique(y_train, return_counts=True)\n",
    "print(\"Labels in training dataset: \", labels)\n",
    "print(\"Frequencies in training dataset: \", freqs)"
   ]
  },
  {
   "cell_type": "markdown",
   "metadata": {},
   "source": [
    "\n",
    "Let's try to use SVM with parameters obtained from the best model for $m_{training} =  2000$. "
   ]
  },
  {
   "cell_type": "code",
   "execution_count": 16,
   "metadata": {
    "scrolled": true
   },
   "outputs": [
    {
     "name": "stdout",
     "output_type": "stream",
     "text": [
      "Best SVM training error: 0.170500\n",
      "Best SVM test error: 0.176862\n"
     ]
    }
   ],
   "source": [
    "#get training and test error for the best SVM model from CV\n",
    "\n",
    "best_SVM2 = SVC(kernel='rbf', C=10, gamma = 0.01)\n",
    "best_SVM2.fit(X_train,y_train)\n",
    "\n",
    "training_error = 1 - best_SVM.score(X_train, y_train)\n",
    "\n",
    "test_error = 1 - best_SVM.score(X_test,y_test)\n",
    "\n",
    "print (\"Best SVM training error: %f\" % training_error)\n",
    "print (\"Best SVM test error: %f\" % test_error)"
   ]
  },
  {
   "cell_type": "markdown",
   "metadata": {},
   "source": [
    "Just for comparison, let's also use logistic regression \n"
   ]
  },
  {
   "cell_type": "code",
   "execution_count": 17,
   "metadata": {},
   "outputs": [
    {
     "name": "stdout",
     "output_type": "stream",
     "text": [
      "Best logistic regression training error: 0.000000\n",
      "Best logistic regression test error: 0.279293\n"
     ]
    }
   ],
   "source": [
    "from sklearn import linear_model\n",
    "\n",
    "from sklearn.metrics import accuracy_score #for quick error estimation\n",
    "\n",
    "logreg = linear_model.LogisticRegression(C=1e5, max_iter=5000)\n",
    "learning = logreg.fit(X_train,y_train)\n",
    "\n",
    "prediction_train = learning.predict(X_train)\n",
    "prediction_test = learning.predict(X_test)\n",
    "\n",
    "training_error = 1 - accuracy_score(prediction_train, y_train)\n",
    "test_error = 1 - accuracy_score(prediction_test, y_test)\n",
    "\n",
    "print (\"Best logistic regression training error: %f\" % training_error)\n",
    "print (\"Best logistic regression test error: %f\" % test_error)"
   ]
  },
  {
   "cell_type": "markdown",
   "metadata": {},
   "source": [
    "Try  with regularization (use C=1)¶"
   ]
  },
  {
   "cell_type": "code",
   "execution_count": 18,
   "metadata": {},
   "outputs": [
    {
     "name": "stdout",
     "output_type": "stream",
     "text": [
      "Best regularized logistic regression training error: 0.000500\n",
      "Best regularized logistic regression test error: 0.250948\n"
     ]
    }
   ],
   "source": [
    "logreg = linear_model.LogisticRegression(C=1, max_iter=5000)\n",
    "learning = logreg.fit(X_train,y_train)\n",
    "\n",
    "prediction_train = learning.predict(X_train)\n",
    "prediction_test = learning.predict(X_test)\n",
    "\n",
    "training_error = 1 - accuracy_score(prediction_train, y_train)\n",
    "test_error = 1 - accuracy_score(prediction_test, y_test)\n",
    "\n",
    "print (\"Best regularized logistic regression training error: %f\" % training_error)\n",
    "print (\"Best regularized logistic regression test error: %f\" % test_error)"
   ]
  },
  {
   "cell_type": "markdown",
   "metadata": {},
   "source": [
    "\n",
    "Items that are missclassified by logistic regression and correctly classified by SVM."
   ]
  },
  {
   "cell_type": "code",
   "execution_count": 19,
   "metadata": {},
   "outputs": [],
   "source": [
    "LR_prediction = prediction_test\n",
    "SVM_prediction = best_SVM2.predict(X_test) "
   ]
  },
  {
   "cell_type": "code",
   "execution_count": 20,
   "metadata": {},
   "outputs": [],
   "source": [
    "#list with all the indexes classified correctly with SVM and misclassified by LR \n",
    "index = [i for i in range(len(LR_prediction)) if LR_prediction[i] != SVM_prediction[i] and SVM_prediction[i] == y_test[i]]"
   ]
  },
  {
   "cell_type": "code",
   "execution_count": 21,
   "metadata": {},
   "outputs": [
    {
     "name": "stdout",
     "output_type": "stream",
     "text": [
      "Number of such cases:  8488\n",
      "Ratio of all such cases in all test data:  0.146\n"
     ]
    }
   ],
   "source": [
    "print('Number of such cases: ', len(index))\n",
    "ratio = len(index)/len(LR_prediction)\n",
    "print('Ratio of all such cases in all test data: ', f'{ratio:.3}')"
   ]
  },
  {
   "cell_type": "markdown",
   "metadata": {},
   "source": [
    "\n",
    "Plot the confusion matrix for the SVM classifier and for logistic regression.\n",
    "The confusion matrix has one column for each predicted label and one row for each true label. \n",
    "It shows for each class in the corresponding row how many samples belonging to that class gets each possible output label.\n",
    "Notice that the diagonal contains the correctly classified samples, while the other cells correspond to errors.\n",
    "You can obtain it with the sklearn.metrics.confusion_matrix function (see the documentation).\n",
    "Try also to normalize the confusion matrix by the number of samples in each class in order to measure the accuracy on each single class.\n"
   ]
  },
  {
   "cell_type": "code",
   "execution_count": 22,
   "metadata": {},
   "outputs": [
    {
     "name": "stdout",
     "output_type": "stream",
     "text": [
      "Labels and frequencies in test set:  [5770 5819 5802 5768 5827 5790 5808 5807 5809 5800]\n",
      "\n",
      " Confusion matrix SVM  \n",
      " \n",
      " [[5359   11    0   55   83   38   13   87   85   39]\n",
      " [  15 5011  118  108  149   25  144    3   70  176]\n",
      " [   0   76 4738  173   65   39  381   34  209   87]\n",
      " [   8   28  103 5390   27   80   22   19   78   13]\n",
      " [ 199  117  121   67 5018   28   76   33   96   72]\n",
      " [  49   44  122  171   44 5160   72   18   73   37]\n",
      " [  11  137  354   40  207   19 4915   52   51   22]\n",
      " [  56   15   47   88  155   21   56 5270   64   35]\n",
      " [  28  110   72   67   21   40  203    4 5222   42]\n",
      " [  17  154  133   18  134    8   17   22   48 5249]]\n",
      "\n",
      " Confusion matrix SVM (normalized)   \n",
      " \n",
      " [[0.93 0.   0.   0.01 0.01 0.01 0.   0.02 0.01 0.01]\n",
      " [0.   0.86 0.02 0.02 0.03 0.   0.02 0.   0.01 0.03]\n",
      " [0.   0.01 0.82 0.03 0.01 0.01 0.07 0.01 0.04 0.01]\n",
      " [0.   0.   0.02 0.93 0.   0.01 0.   0.   0.01 0.  ]\n",
      " [0.03 0.02 0.02 0.01 0.86 0.   0.01 0.01 0.02 0.01]\n",
      " [0.01 0.01 0.02 0.03 0.01 0.89 0.01 0.   0.01 0.01]\n",
      " [0.   0.02 0.06 0.01 0.04 0.   0.85 0.01 0.01 0.  ]\n",
      " [0.01 0.   0.01 0.02 0.03 0.   0.01 0.91 0.01 0.01]\n",
      " [0.   0.02 0.01 0.01 0.   0.01 0.03 0.   0.9  0.01]\n",
      " [0.   0.03 0.02 0.   0.02 0.   0.   0.   0.01 0.91]]\n",
      "\n",
      " Confusion matrix LR  \n",
      " \n",
      " [[4925   25   28   65  170  208    9  171   65  104]\n",
      " [  22 4222  307  106  224  151  252   21  213  301]\n",
      " [   0  226 3502  170  148  267  685   94  445  265]\n",
      " [  28   73  154 4645  147  341   75   68  170   67]\n",
      " [ 217  215  262  142 4217  132  165  130   94  253]\n",
      " [  73  104  200  361   71 4631  121   38  126   65]\n",
      " [  29  286  410  117  252  127 4234  130  172   51]\n",
      " [ 111   62  116  159  184  212  110 4645  122   86]\n",
      " [  48  328  343  136   88  253  380    8 4128   97]\n",
      " [  63  316  414   57  315   63   60   89  127 4296]]\n",
      "\n",
      " Confusion matrix LR (normalized)   \n",
      " \n",
      " [[0.85 0.   0.   0.01 0.03 0.04 0.   0.03 0.01 0.02]\n",
      " [0.   0.73 0.05 0.02 0.04 0.03 0.04 0.   0.04 0.05]\n",
      " [0.   0.04 0.6  0.03 0.03 0.05 0.12 0.02 0.08 0.05]\n",
      " [0.   0.01 0.03 0.81 0.03 0.06 0.01 0.01 0.03 0.01]\n",
      " [0.04 0.04 0.04 0.02 0.72 0.02 0.03 0.02 0.02 0.04]\n",
      " [0.01 0.02 0.03 0.06 0.01 0.8  0.02 0.01 0.02 0.01]\n",
      " [0.   0.05 0.07 0.02 0.04 0.02 0.73 0.02 0.03 0.01]\n",
      " [0.02 0.01 0.02 0.03 0.03 0.04 0.02 0.8  0.02 0.01]\n",
      " [0.01 0.06 0.06 0.02 0.02 0.04 0.07 0.   0.71 0.02]\n",
      " [0.01 0.05 0.07 0.01 0.05 0.01 0.01 0.02 0.02 0.74]]\n"
     ]
    }
   ],
   "source": [
    "np.set_printoptions(precision=2, suppress=True) # for better aligned printing of confusion matrix use floatmode='fixed'\n",
    "\n",
    "u, counts = np.unique(y_test, return_counts=True)\n",
    "print(\"Labels and frequencies in test set: \", counts)\n",
    "\n",
    "\n",
    "\n",
    "confusion_SVM = sklearn.metrics.confusion_matrix(y_test, SVM_prediction)\n",
    "print(\"\\n Confusion matrix SVM  \\n \\n\", confusion_SVM)\n",
    "print(\"\\n Confusion matrix SVM (normalized)   \\n \\n\", confusion_SVM /counts[:,None] )\n",
    "\n",
    "confusion_LR =  sklearn.metrics.confusion_matrix(y_test, prediction_test)\n",
    "print(\"\\n Confusion matrix LR  \\n \\n\", confusion_LR)\n",
    "print(\"\\n Confusion matrix LR (normalized)   \\n \\n\", confusion_LR /counts[:,None] )"
   ]
  },
  {
   "cell_type": "code",
   "execution_count": 23,
   "metadata": {},
   "outputs": [
    {
     "name": "stdout",
     "output_type": "stream",
     "text": [
      "\n",
      " Confusion matrix SVM  \n",
      " \n",
      " [[0.93 0.   0.   0.01 0.01 0.01 0.   0.02 0.01 0.01]\n",
      " [0.   0.86 0.02 0.02 0.03 0.   0.02 0.   0.01 0.03]\n",
      " [0.   0.01 0.82 0.03 0.01 0.01 0.07 0.01 0.04 0.01]\n",
      " [0.   0.   0.02 0.93 0.   0.01 0.   0.   0.01 0.  ]\n",
      " [0.03 0.02 0.02 0.01 0.86 0.   0.01 0.01 0.02 0.01]\n",
      " [0.01 0.01 0.02 0.03 0.01 0.89 0.01 0.   0.01 0.01]\n",
      " [0.   0.02 0.06 0.01 0.04 0.   0.85 0.01 0.01 0.  ]\n",
      " [0.01 0.   0.01 0.02 0.03 0.   0.01 0.91 0.01 0.01]\n",
      " [0.   0.02 0.01 0.01 0.   0.01 0.03 0.   0.9  0.01]\n",
      " [0.   0.03 0.02 0.   0.02 0.   0.   0.   0.01 0.91]]\n",
      "\n",
      " Confusion matrix LR  \n",
      " \n",
      " [[0.85 0.   0.   0.01 0.03 0.04 0.   0.03 0.01 0.02]\n",
      " [0.   0.73 0.05 0.02 0.04 0.03 0.04 0.   0.04 0.05]\n",
      " [0.   0.04 0.6  0.03 0.03 0.05 0.12 0.02 0.08 0.05]\n",
      " [0.   0.01 0.03 0.81 0.03 0.06 0.01 0.01 0.03 0.01]\n",
      " [0.04 0.04 0.04 0.02 0.72 0.02 0.03 0.02 0.02 0.04]\n",
      " [0.01 0.02 0.03 0.06 0.01 0.8  0.02 0.01 0.02 0.01]\n",
      " [0.   0.05 0.07 0.02 0.04 0.02 0.73 0.02 0.03 0.01]\n",
      " [0.02 0.01 0.02 0.03 0.03 0.04 0.02 0.8  0.02 0.01]\n",
      " [0.01 0.06 0.06 0.02 0.02 0.04 0.07 0.   0.71 0.02]\n",
      " [0.01 0.05 0.07 0.01 0.05 0.01 0.01 0.02 0.02 0.74]]\n"
     ]
    }
   ],
   "source": [
    "confusion_SVM = sklearn.metrics.confusion_matrix(y_test, SVM_prediction, normalize = 'true')\n",
    "print(\"\\n Confusion matrix SVM  \\n \\n\", confusion_SVM)\n",
    "\n",
    "confusion_LR =  sklearn.metrics.confusion_matrix(y_test, prediction_test, normalize = 'true')\n",
    "print(\"\\n Confusion matrix LR  \\n \\n\", confusion_LR)"
   ]
  },
  {
   "cell_type": "markdown",
   "metadata": {},
   "source": [
    "We can see that for SVM the range of accuracies is 0.82 - 0.93, while for the LR it is 0.6 - 0.85. It is clearly seen that in all classes SVM classifies better (accuracy is higher).\n",
    "\n",
    "At the same time, we can see that the lowest accuracy for SVM is at the same position as the lowest accuracy for LR (as well as highest, for example). This makes me think that the differences between accuracies is due to our datasets and not models. For example, it can be because each class has a bit different number of samples (thus the classes with higher number of samples have higher accuracy)."
   ]
  }
 ],
 "metadata": {
  "kernelspec": {
   "display_name": "Python 3 (ipykernel)",
   "language": "python",
   "name": "python3"
  },
  "language_info": {
   "codemirror_mode": {
    "name": "ipython",
    "version": 3
   },
   "file_extension": ".py",
   "mimetype": "text/x-python",
   "name": "python",
   "nbconvert_exporter": "python",
   "pygments_lexer": "ipython3",
   "version": "3.12.0"
  }
 },
 "nbformat": 4,
 "nbformat_minor": 4
}
