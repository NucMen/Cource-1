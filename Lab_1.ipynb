{
 "cells": [
  {
   "cell_type": "markdown",
   "metadata": {},
   "source": [
    "## 1) Classification of NBA players role\n",
    "\n",
    "## IMPORTANT: make sure to rerun all the code from the beginning to obtain the results for the final version of your notebook, since this is the way we will do it before evaluating your notebook!"
   ]
  },
  {
   "cell_type": "markdown",
   "metadata": {},
   "source": [
    "### Dataset description\n",
    "\n",
    "We will be working with a dataset of NBA basketball players data (you can get from https://www.kaggle.com/jacobbaruch/nba-player-of-the-week the full dataset).\n",
    "\n",
    "The provided data is a subset of the Kaggle dataset containing the players that have the role of Center and of Point Guard. For each player the dataset contains 3 features, the height, the weight and the age.\n",
    "\n",
    "From Wikipedia (if you are not a basketball fan!!):\n",
    "\n",
    "The Center (C), also known as the five, or the big man, is one of the five positions in a regular basketball game. The center is normally the tallest player on the team, and often has a great deal of strength and body mass as well. In the NBA, the center is usually 6' 10\" (2.08 m) or taller and usually weighs 240 lbs (109 kg) or more. \n",
    "\n",
    "Point Guards (PG, a.k.a. as \"play maker\") are expected to run the team's offense by controlling the ball and making sure that it gets to the right players at the right time. In the NBA, point guards are usually about 6' 3\" (1.93 m) or shorter, and average about 6' 2\" (1.88 m). Having above-average size (height, muscle) is considered advantageous, although size is secondary to situational awareness, speed, quickness, and ball handling skills. Shorter players tend to be better dribblers since they are closer to the floor, and thus have better control of the ball while dribbling. \n",
    "\n",
    "\n",
    "As it is clear from the description, the height and weight of the player are good hints to predict their role and in this lab we will exploit this features to estimate the role.\n",
    "\n",
    "\n",
    "### Three features are considered for this dataset:\n",
    "\n",
    "\n",
    "1) Height in cm\n",
    "\n",
    "2) Weight in kg\n",
    "\n",
    "3) Age in years"
   ]
  },
  {
   "cell_type": "markdown",
   "metadata": {},
   "source": [
    "We first import all the packages that are needed."
   ]
  },
  {
   "cell_type": "code",
   "execution_count": 1,
   "metadata": {},
   "outputs": [],
   "source": [
    "%matplotlib inline\n",
    "import matplotlib.pyplot as plt\n",
    "import csv\n",
    "\n",
    "import numpy as np\n",
    "import scipy as sp\n",
    "import sklearn as sl\n",
    "from scipy import stats\n",
    "from sklearn import datasets\n",
    "from sklearn import linear_model"
   ]
  },
  {
   "cell_type": "markdown",
   "metadata": {},
   "source": [
    "# Perceptron\n",
    "Firstly we will implement the perceptron algorithm and use it to learn a halfspace."
   ]
  },
  {
   "cell_type": "markdown",
   "metadata": {},
   "source": [
    "Load the dataset and then split in training set and test set (the training set is typically larger, you can use a 70% tranining 30% test split) after applying a random permutation to the datset."
   ]
  },
  {
   "cell_type": "markdown",
   "metadata": {},
   "source": [
    "A) Load dataset and perform permutation"
   ]
  },
  {
   "cell_type": "code",
   "execution_count": 3,
   "metadata": {},
   "outputs": [
    {
     "name": "stdout",
     "output_type": "stream",
     "text": [
      "['Position', 'Height cm', 'kg', 'Age']\n",
      "260\n"
     ]
    }
   ],
   "source": [
    "#load the dataset\n",
    "filename = 'NBA.csv'\n",
    "NBA = csv.reader(open(filename, newline=''), delimiter=',')\n",
    "\n",
    "header = next(NBA) #skip first line\n",
    "print(header)\n",
    "\n",
    "dataset = list(NBA)\n",
    "for i in range(len(dataset)):\n",
    "    dataset[i] = [int(x) for x in dataset[i]]\n",
    "    \n",
    "dataset = np.asarray(dataset)\n",
    "\n",
    "X = dataset[:,1:4] #columns 1,2,3 contain the features\n",
    "Y = dataset[:,0]  # column 0: labels\n",
    "\n",
    "Y = Y*2-1  # set labels to -1, 1 as required by perceptron implementation\n",
    "\n",
    "m = dataset.shape[0]\n",
    "print(m)\n",
    "permutation = np.random.permutation(m) # random permurtation\n",
    "\n",
    "X = X[permutation]\n",
    "Y = Y[permutation]"
   ]
  },
  {
   "cell_type": "markdown",
   "metadata": {},
   "source": [
    "We are going to classify class \"1\" (Center) vs class \"-1\" (Point Guard)"
   ]
  },
  {
   "cell_type": "code",
   "execution_count": 4,
   "metadata": {},
   "outputs": [
    {
     "name": "stdout",
     "output_type": "stream",
     "text": [
      "Number of elements in a training set: 182\n",
      "Number of elements in a test set: 78\n",
      "Number of -1 in training set: 78\n",
      "Number of 1 in training set: 104\n",
      "Y_training: [-1  1  1 -1  1  1 -1 -1 -1 -1  1  1 -1  1 -1 -1  1 -1  1 -1 -1  1  1  1\n",
      "  1  1 -1  1  1 -1  1  1 -1 -1  1  1  1 -1  1  1  1  1 -1  1  1 -1  1  1\n",
      "  1 -1  1  1 -1  1  1  1 -1  1  1  1  1 -1 -1  1  1 -1 -1 -1 -1  1  1  1\n",
      "  1 -1 -1 -1 -1  1  1  1  1  1  1 -1 -1 -1  1 -1 -1 -1  1  1 -1 -1  1  1\n",
      "  1 -1 -1 -1 -1 -1 -1 -1  1  1  1 -1 -1 -1 -1 -1  1  1 -1  1  1 -1 -1  1\n",
      "  1  1  1 -1 -1 -1  1  1  1 -1  1 -1  1 -1 -1  1  1  1 -1  1  1  1 -1  1\n",
      "  1 -1 -1  1  1  1  1 -1  1 -1  1 -1 -1  1  1  1 -1  1 -1  1 -1  1  1  1\n",
      " -1 -1  1  1  1  1 -1 -1 -1  1  1  1  1  1]\n",
      "78\n",
      "Shape of training set: (182, 3)\n",
      "Shape of test set: (78, 3)\n"
     ]
    }
   ],
   "source": [
    "#m_training needs to be the number of samples in the training set\n",
    "m_training = int(m*0.7)\n",
    "print('Number of elements in a training set:',m_training)\n",
    "\n",
    "\n",
    "m_test = m - m_training #in this case of 260 players it exactly equals to 30%,\n",
    "#in other possible cases where it's impossible to divide and get an integer it's approximately 30%\n",
    "\n",
    "print('Number of elements in a test set:', m_test)\n",
    "\n",
    "\n",
    "def making_training(X, Y, m_training, m): #this is a function that makes everything needed in this part\n",
    "    trainX = []\n",
    "    trainY = []\n",
    "    testX = []\n",
    "    testY = []\n",
    "    for_check1 = 9\n",
    "    for_check2 = 9\n",
    "    \n",
    "    while for_check1 < 10 or for_check2 < 10:\n",
    "        rand_position = []\n",
    "        \n",
    "        while len(rand_position) < m_training:\n",
    "            i = np.random.randint(0,m)\n",
    "            if i not in rand_position: rand_position.append(i)\n",
    "                \n",
    "        for pos in rand_position:\n",
    "            trainX.append(X[pos])\n",
    "            trainY.append(Y[pos])\n",
    "        trainX = np.asarray(trainX)\n",
    "        trainY = np.asarray(trainY)\n",
    "        \n",
    "        maskY1 = (trainY < 0)\n",
    "        for_check1 = np.prod(trainY[maskY1].shape)\n",
    "        maskY2 = (trainY > 0)\n",
    "        for_check2 = np.prod(trainY[maskY2].shape)\n",
    "        if for_check1 < 10 or for_check2 < 10:\n",
    "            permutation = np.random.permutation(m) # random permurtation\n",
    "            X = X[permutation]\n",
    "            Y = Y[permutation]\n",
    "            \n",
    "    #it is a final number of -1 and 1 data in our training set\n",
    "    print('Number of -1 in training set:', for_check1)\n",
    "    print('Number of 1 in training set:', for_check2)\n",
    "    \n",
    "    test_position = [i for i in range(m) if i not in rand_position]\n",
    "    \n",
    "    for pos in test_position:\n",
    "            testX.append(X[pos])\n",
    "            testY.append(Y[pos])\n",
    "    testX = np.asarray(testX)\n",
    "    testY = np.asarray(testY)\n",
    "        \n",
    "    return trainX, trainY, testX, testY\n",
    "\n",
    "\n",
    "X_training, Y_training, X_test, Y_test =  making_training(X,Y,m_training,m)\n",
    "\n",
    "print('Y_training:', Y_training) #to make sure that Y_training contains both 1 and -1\n",
    "print(m_test)\n",
    "\n",
    "print(\"Shape of training set: \" + str(X_training.shape))\n",
    "print(\"Shape of test set: \" + str(X_test.shape))"
   ]
  },
  {
   "cell_type": "markdown",
   "metadata": {},
   "source": [
    "We add a 1 in front of each sample so that we can use a vector in homogeneous coordinates to describe all the coefficients of the model. This can be done with the function $hstack$ in $numpy$."
   ]
  },
  {
   "cell_type": "code",
   "execution_count": 5,
   "metadata": {},
   "outputs": [],
   "source": [
    "#add a 1 to each sample (homogeneous coordinates)\n",
    "X_training = np.hstack((np.ones((m_training,1)),X_training))\n",
    "X_test = np.hstack((np.ones((m_test,1)),X_test))\n"
   ]
  },
  {
   "cell_type": "markdown",
   "metadata": {},
   "source": [
    "\n",
    "\n",
    "The input parameters to pass are:\n",
    "- $X$: the matrix of input features, one row for each sample\n",
    "- $Y$: the vector of labels for the input features matrix X\n",
    "- $max\\_num\\_iterations$: the maximum number of iterations for running the perceptron\n",
    "\n",
    "The output values are:\n",
    "- $best\\_w$: the vector with the coefficients of the best model\n",
    "- $best\\_error$: the *fraction* of misclassified samples for the best model"
   ]
  },
  {
   "cell_type": "code",
   "execution_count": 6,
   "metadata": {},
   "outputs": [],
   "source": [
    "def perceptron_update(current_w, x, y):\n",
    "    # The update rule of the perceptron algorithm\n",
    "    new_w = current_w + y*x\n",
    "    return new_w\n",
    "\n",
    "\n",
    "def classification(current_w,x): #our step function needed for classification\n",
    "    c = np.dot(x.T,current_w)\n",
    "    if c>0:\n",
    "        return 1\n",
    "    else: return -1\n",
    "\n",
    "\n",
    "def perceptron(X, Y, max_num_iterations):\n",
    "    # The main section of the perceptron algorithm\n",
    "    \n",
    "    #init the algorithm with w=0, best_w variable keeps track of the best solution\n",
    "    curr_w = np.array([0.,0.,0.,0.])\n",
    "    best_w = np.array([0.,0.,0.,0.])\n",
    "    num_samples = len(X)\n",
    "    best_error = 2\n",
    "    \n",
    "    index_misclassified = 0\n",
    "    num_misclassified = 0 \n",
    "    \n",
    "    \n",
    "    #main loop continue until all samples correctly classified or max # iterations reached\n",
    "    num_iter = 1\n",
    "    \n",
    "    while ((index_misclassified != -1) and (num_iter < max_num_iterations)):\n",
    "        index_misclassified = -1\n",
    "        num_misclassified = 0\n",
    "    \n",
    "        \n",
    "        permutation = np.random.permutation(len(X)) # random permurtation\n",
    "        X = X[permutation]\n",
    "        Y = Y[permutation]\n",
    "        \n",
    "\n",
    "    #check if the i-th randomly selected sample is misclassified\n",
    "    #store the number of randomly misclassified samples and the index of at least one of them\n",
    "        \n",
    "        for i in range(num_samples):\n",
    "            if (Y[i] - classification(curr_w,X[i])) != 0:\n",
    "                index_misclassified = i\n",
    "                num_misclassified += 1\n",
    "\n",
    "        #update  error count, keep track of best solution\n",
    "        error = num_misclassified/num_samples\n",
    "        if error < best_error:\n",
    "            best_w = curr_w\n",
    "            best_error = error  \n",
    "        num_iter += 1\n",
    "        \n",
    "        #call update function using a misclassifed sample\n",
    "        if (Y[i] - classification(curr_w,X[i])) != 0:\n",
    "            curr_w = perceptron_update(curr_w, X[index_misclassified], Y[index_misclassified])\n",
    "    \n",
    "    \n",
    "    #best_error\n",
    "    best_error = 0\n",
    "    for i in range(num_samples):\n",
    "        if (Y[i] - classification(best_w,X[i])) != 0:\n",
    "            best_error += 1\n",
    "    best_error = best_error/num_samples\n",
    "    return best_w, best_error"
   ]
  },
  {
   "cell_type": "markdown",
   "metadata": {},
   "source": [
    "Now we use the implementation above of the perceptron to learn a model from the training data using 100 iterations and print the error of the best model we have found."
   ]
  },
  {
   "cell_type": "code",
   "execution_count": 7,
   "metadata": {},
   "outputs": [
    {
     "name": "stdout",
     "output_type": "stream",
     "text": [
      "Training Error of perceptron (100 iterations): 0.08791208791208792\n"
     ]
    }
   ],
   "source": [
    "w_found, error = perceptron(X_training,Y_training, 100)\n",
    "print(\"Training Error of perceptron (100 iterations): \" + str(error))"
   ]
  },
  {
   "cell_type": "code",
   "execution_count": 8,
   "metadata": {},
   "outputs": [
    {
     "name": "stdout",
     "output_type": "stream",
     "text": [
      "Test Error of perceptron (100 iterations): 0.08974358974358974\n"
     ]
    }
   ],
   "source": [
    "#we use w_found to make predictions on test dataset\n",
    "\n",
    "num_errors = 0\n",
    "for i in range(len(X_test)):\n",
    "        if (Y_test[i] - classification(w_found,X_test[i])) != 0:\n",
    "            num_errors += 1\n",
    "\n",
    "true_loss_estimate = num_errors/m_test  # error rate on the test set\n",
    "\n",
    "print(\"Test Error of perceptron (100 iterations): \" + str(true_loss_estimate))"
   ]
  },
  {
   "cell_type": "code",
   "execution_count": 9,
   "metadata": {
    "scrolled": true
   },
   "outputs": [
    {
     "name": "stdout",
     "output_type": "stream",
     "text": [
      "Training Error of perceptron (3000 iterations): 0.07692307692307693\n",
      "Test Error of perceptron (3000 iterations): 0.08974358974358974\n"
     ]
    }
   ],
   "source": [
    "w_found, error = perceptron(X_training,Y_training, 3000)\n",
    "\n",
    "print(\"Training Error of perceptron (3000 iterations): \" + str(error))\n",
    "\n",
    "num_errors = 0\n",
    "for i in range(len(X_test)):\n",
    "        if (Y_test[i] - classification(w_found,X_test[i])) != 0:\n",
    "            num_errors += 1\n",
    "\n",
    "true_loss_estimate = num_errors/m_test\n",
    "\n",
    "print(\"Test Error of perceptron (3000 iterations): \" + str(true_loss_estimate))"
   ]
  },
  {
   "cell_type": "markdown",
   "metadata": {},
   "source": [
    "# Logistic Regression\n",
    "Now we use logistic regression, exploiting the implementation in Scikit-learn, to predict labels. We will also plot the decision region of logistic regression.\n",
    "\n",
    "We first load the dataset again."
   ]
  },
  {
   "cell_type": "code",
   "execution_count": 10,
   "metadata": {},
   "outputs": [
    {
     "name": "stdout",
     "output_type": "stream",
     "text": [
      "['Position', 'Height cm', 'kg', 'Age']\n"
     ]
    }
   ],
   "source": [
    "filename = 'NBA.csv'\n",
    "NBA = csv.reader(open(filename, newline=''), delimiter=',')\n",
    "\n",
    "header = next(NBA)\n",
    "print(header)\n",
    "\n",
    "dataset = list(NBA)\n",
    "for i in range(len(dataset)):\n",
    "    dataset[i] = [int(x) for x in dataset[i]]\n",
    "    \n",
    "dataset = np.asarray(dataset)\n",
    "\n",
    "X = dataset[:,1:]\n",
    "Y = dataset[:,0]\n",
    "\n",
    "Y = Y*2-1  # set labels to -1, 1 as required by perceptron implementation\n",
    "\n",
    "m = dataset.shape[0]\n",
    "permutation = np.random.permutation(m)\n",
    "\n",
    "X = X[permutation]\n",
    "Y = Y[permutation]"
   ]
  },
  {
   "cell_type": "code",
   "execution_count": 11,
   "metadata": {},
   "outputs": [
    {
     "name": "stdout",
     "output_type": "stream",
     "text": [
      "Number of elements in a training set: 182\n",
      "Number of elements in a test set: 78\n",
      "Number of -1 in training set: 80\n",
      "Number of 1 in training set: 102\n"
     ]
    }
   ],
   "source": [
    "m_training = int(m*0.7)\n",
    "print('Number of elements in a training set:',m_training)\n",
    "\n",
    "m_test = m - m_training\n",
    "\n",
    "print('Number of elements in a test set:', m_test)\n",
    "\n",
    "\n",
    "def making_training(X, Y, m_training, m): #this is a function that makes everything needed in this part\n",
    "    trainX = []\n",
    "    trainY = []\n",
    "    testX = []\n",
    "    testY = []\n",
    "    for_check1 = 9\n",
    "    for_check2 = 9\n",
    "    \n",
    "    while for_check1 < 10 or for_check2 < 10:\n",
    "        rand_position = []\n",
    "        \n",
    "        while len(rand_position) < m_training:\n",
    "            i = np.random.randint(0,m)\n",
    "            if i not in rand_position: rand_position.append(i)\n",
    "                \n",
    "        for pos in rand_position:\n",
    "            trainX.append(X[pos])\n",
    "            trainY.append(Y[pos])\n",
    "        trainX = np.asarray(trainX)\n",
    "        trainY = np.asarray(trainY)\n",
    "        \n",
    "        maskY1 = (trainY < 0)\n",
    "        for_check1 = np.prod(trainY[maskY1].shape)\n",
    "        maskY2 = (trainY > 0)\n",
    "        for_check2 = np.prod(trainY[maskY2].shape)\n",
    "        if for_check1 < 10 or for_check2 < 10:\n",
    "            permutation = np.random.permutation(m) # random permurtation\n",
    "            X = X[permutation]\n",
    "            Y = Y[permutation]\n",
    "            \n",
    "    #it is a final number of -1 and 1 data in our training set\n",
    "    print('Number of -1 in training set:', for_check1)\n",
    "    print('Number of 1 in training set:', for_check2)\n",
    "    \n",
    "    test_position = [i for i in range(m) if i not in rand_position]\n",
    "    \n",
    "    for pos in test_position:\n",
    "            testX.append(X[pos])\n",
    "            testY.append(Y[pos])\n",
    "    testX = np.asarray(testX)\n",
    "    testY = np.asarray(testY)\n",
    "        \n",
    "    return trainX, trainY, testX, testY\n",
    "\n",
    "\n",
    "X_training, Y_training, X_test, Y_test =  making_training(X,Y,m_training,m)\n",
    "\n",
    "#add a 1 to each sample (homogeneous coordinates)\n",
    "X_training = np.hstack((np.ones((m_training,1)),X_training))\n",
    "X_test = np.hstack((np.ones((m_test,1)),X_test))"
   ]
  },
  {
   "cell_type": "markdown",
   "metadata": {},
   "source": [
    "To define a logistic regression model in Scikit-learn use the instruction\n",
    "\n",
    "$linear\\_model.LogisticRegression(C=1e5)$\n",
    "\n",
    "($C$ is a parameter related to *regularization*. Setting it to a high value is almost\n",
    "as ignoring regularization, so the instruction above corresponds to the\n",
    "logistic regression you have seen in class.)\n",
    "\n",
    "To learn the model you need to use the $fit(...)$ instruction and to predict you need to use the $predict(...)$ function. See the Scikit-learn documentation for how to use it.\n"
   ]
  },
  {
   "cell_type": "code",
   "execution_count": 12,
   "metadata": {},
   "outputs": [
    {
     "name": "stdout",
     "output_type": "stream",
     "text": [
      "Error rate on training set: 0.06593406593406594\n",
      "Error rate on test set: 0.07692307692307693\n"
     ]
    }
   ],
   "source": [
    "logreg = linear_model.LogisticRegression(C=1e5) #a large C disables regularization\n",
    "\n",
    "#learn from training set\n",
    "\n",
    "learning = logreg.fit(X_training,Y_training)\n",
    "\n",
    "#predict on training set\n",
    "prediction_training = learning.predict(X_training)\n",
    "\n",
    "#print the error rate = fraction of misclassified samples\n",
    "error_rate_training = 0\n",
    "for i in range(len(Y_training)):\n",
    "    if (prediction_training[i] - Y_training[i] != 0):\n",
    "        error_rate_training+=1\n",
    "\n",
    "error_rate_training =  error_rate_training/m_training\n",
    "\n",
    "print(\"Error rate on training set: \"+str(error_rate_training))\n",
    "\n",
    "#predict on test set\n",
    "\n",
    "prediction_test = learning.predict(X_test)\n",
    "\n",
    "#print the error rate = fraction of misclassified samples\n",
    "error_rate_test = 0\n",
    "for i in range(len(Y_test)):\n",
    "    if (prediction_test[i] - Y_test[i] != 0):\n",
    "        error_rate_test+=1\n",
    "\n",
    "error_rate_test =  error_rate_test/m_test\n",
    "\n",
    "\n",
    "print(\"Error rate on test set: \" + str(error_rate_test))"
   ]
  },
  {
   "cell_type": "code",
   "execution_count": 13,
   "metadata": {},
   "outputs": [],
   "source": [
    "#to make the plot we need to reduce the data to 2D, so we choose two features\n",
    "features_list = ['height', 'weight', 'age']\n",
    "labels_list = ['Center', 'Point guard']\n",
    "\n",
    "# select a pair of features\n",
    "index_feature1 = 0 # we choose height\n",
    "index_feature2 = 1 # and weight (age of course is not very meaningful)\n",
    "features = [index_feature1, index_feature2]\n",
    "\n",
    "feature_name0 = features_list[features[0]]\n",
    "feature_name1 = features_list[features[1]]\n",
    "\n",
    "\n",
    "X_reduced = X[:,features]\n",
    "\n",
    "\n",
    "\n",
    "X_training = X_training[:,1:3]\n",
    "\n",
    "X_test = X_test[:,1:3]"
   ]
  },
  {
   "cell_type": "markdown",
   "metadata": {},
   "source": [
    "Now learn a model using the training data and measure the performances."
   ]
  },
  {
   "cell_type": "code",
   "execution_count": 14,
   "metadata": {},
   "outputs": [
    {
     "name": "stdout",
     "output_type": "stream",
     "text": [
      "Error rate on test set: 0.07692307692307693\n"
     ]
    }
   ],
   "source": [
    "# learning from training data\n",
    "\n",
    "logreg = linear_model.LogisticRegression(C=1e5) #a large C disables regularization\n",
    "learning = logreg.fit(X_training,Y_training)\n",
    "\n",
    "\n",
    "#print the error rate = fraction of misclassified samples\n",
    "prediction_test = learning.predict(X_test)\n",
    "\n",
    "error_rate_test = 0\n",
    "for i in range(len(Y_test)):\n",
    "    if (prediction_test[i] - Y_test[i] != 0):\n",
    "        error_rate_test+=1\n",
    "error_rate_test = error_rate_test/m_test\n",
    "\n",
    "print(\"Error rate on test set: \" + str(error_rate_test))"
   ]
  },
  {
   "cell_type": "code",
   "execution_count": 15,
   "metadata": {
    "scrolled": true
   },
   "outputs": [
    {
     "data": {
      "image/png": "[encoded data removed]",
      "text/plain": [
       "<Figure size 288x216 with 1 Axes>"
      ]
     },
     "metadata": {},
     "output_type": "display_data"
    },
    {
     "data": {
      "image/png": "[encoded data removed]",
      "text/plain": [
       "<Figure size 288x216 with 1 Axes>"
      ]
     },
     "metadata": {},
     "output_type": "display_data"
    }
   ],
   "source": [
    "h = .02  # step size in the mesh\n",
    "x_min, x_max = X_reduced[:, 0].min() - .5, X_reduced[:, 0].max() + .5\n",
    "y_min, y_max = X_reduced[:, 1].min() - .5, X_reduced[:, 1].max() + .5\n",
    "xx, yy = np.meshgrid(np.arange(x_min, x_max, h), np.arange(y_min, y_max, h))\n",
    "\n",
    "Z = logreg.predict(np.c_[xx.ravel(), yy.ravel()])\n",
    "\n",
    "# Put the result into a color plot\n",
    "Z = Z.reshape(xx.shape)\n",
    "\n",
    "plt.figure(1, figsize=(4, 3))\n",
    "plt.pcolormesh(xx, yy, Z, cmap=plt.cm.Paired)\n",
    "\n",
    "# Plot also the training points\n",
    "plt.scatter(X_training[:, 0], X_training[:, 1], c=Y_training, edgecolors='k', cmap=plt.cm.Paired)\n",
    "plt.xlabel(feature_name0)\n",
    "plt.ylabel(feature_name1)\n",
    "\n",
    "plt.xlim(xx.min(), xx.max())\n",
    "plt.ylim(yy.min(), yy.max())\n",
    "plt.xticks(())\n",
    "plt.yticks(())\n",
    "plt.title('Training set')\n",
    "\n",
    "plt.show()\n",
    "\n",
    "# Put the result into a color plot\n",
    "Z = Z.reshape(xx.shape)\n",
    "plt.figure(1, figsize=(4, 3))\n",
    "plt.pcolormesh(xx, yy, Z, cmap=plt.cm.Paired)\n",
    "\n",
    "# Plot also the test points \n",
    "plt.scatter(X_test[:, 0], X_test[:, 1], c=Y_test, edgecolors='k', cmap=plt.cm.Paired, marker='s')\n",
    "plt.xlabel(feature_name0)\n",
    "plt.ylabel(feature_name1)\n",
    "\n",
    "plt.xlim(xx.min(), xx.max())\n",
    "plt.ylim(yy.min(), yy.max())\n",
    "plt.xticks(())\n",
    "plt.yticks(())\n",
    "plt.title('Test set')\n",
    "\n",
    "plt.show()"
   ]
  },
  {
   "cell_type": "markdown",
   "metadata": {},
   "source": [
    "# 2) Linear Regression on the Boston House Price dataset\n",
    "\n",
    "Dataset description: <br>\n",
    "The Boston House Price Dataset involves the prediction of a house price in thousands of dollars given details about the house and its neighborhood.\n",
    "\n",
    "The dataset contains a total of 500 observations, which relate 13 input features to an output variable (house price).\n",
    "\n",
    "The variable names are as follows:\n",
    "\n",
    "CRIM: per capita crime rate by town.\n",
    "\n",
    "ZN: proportion of residential land zoned for lots over 25,000 sq.ft.\n",
    "\n",
    "INDUS: proportion of nonretail business acres per town.\n",
    "\n",
    "CHAS: Charles River dummy variable (= 1 if tract bounds river; 0 otherwise).\n",
    "\n",
    "NOX: nitric oxides concentration (parts per 10 million).\n",
    "\n",
    "RM: average number of rooms per dwelling.\n",
    "\n",
    "AGE: proportion of owner-occupied units built prior to 1940.\n",
    "\n",
    "DIS: weighted distances to five Boston employment centers.\n",
    "\n",
    "RAD: index of accessibility to radial highways.\n",
    "\n",
    "TAX: full-value property-tax rate per $10,000.\n",
    "\n",
    "PTRATIO: pupil-teacher ratio by town.\n",
    "\n",
    "B: 1000*(Bk – 0.63)2 where Bk is the proportion of blacks by town.\n",
    "\n",
    "LSTAT: % lower status of the population.\n",
    "\n",
    "MEDV: Median value of owner-occupied homes in $1000s.\n",
    "    "
   ]
  },
  {
   "cell_type": "code",
   "execution_count": 16,
   "metadata": {},
   "outputs": [],
   "source": [
    "%matplotlib nbagg  \n",
    "\n",
    "import matplotlib.pyplot as plt\n",
    "import numpy as np\n",
    "import scipy as sp\n",
    "from scipy import stats"
   ]
  },
  {
   "cell_type": "code",
   "execution_count": 17,
   "metadata": {},
   "outputs": [
    {
     "name": "stdout",
     "output_type": "stream",
     "text": [
      "DescribeResult(nobs=500, minmax=(array([6.3200e-03, 0.0000e+00, 4.6000e-01, 0.0000e+00, 3.8500e-01,\n",
      "       3.5610e+00, 2.9000e+00, 1.1296e+00, 1.0000e+00, 1.8700e+02,\n",
      "       1.2600e+01, 3.2000e-01, 1.7300e+00, 5.0000e+01]), array([ 88.9762, 100.    ,  27.74  ,   1.    ,   0.871 ,   8.78  ,\n",
      "       100.    ,  12.1265,  24.    , 711.    ,  22.    , 396.9   ,\n",
      "        37.97  , 500.    ])), mean=array([3.65578576e+00, 1.15000000e+01, 1.11317400e+01, 7.00000000e-02,\n",
      "       5.54451400e-01, 6.28297000e+00, 6.84246000e+01, 3.81193180e+00,\n",
      "       9.64200000e+00, 4.09624000e+02, 1.84286000e+01, 3.56208040e+02,\n",
      "       1.26987400e+01, 2.25680000e+02]), variance=array([7.47252195e+01, 5.48905812e+02, 4.76198228e+01, 6.52304609e-02,\n",
      "       1.35838329e-02, 4.97618330e-01, 7.99314163e+02, 4.46304043e+00,\n",
      "       7.59617595e+01, 2.85605197e+04, 4.67663531e+00, 8.41657137e+03,\n",
      "       5.13361942e+01, 8.52982926e+03]), skewness=array([ 5.17851447,  2.19924065,  0.29469001,  3.37060575,  0.72944382,\n",
      "        0.40691344, -0.58266003,  0.99061328,  0.9886802 ,  0.65098333,\n",
      "       -0.79127942, -2.85972639,  0.89051925,  1.09625625]), kurtosis=array([36.3384518 ,  3.88460431, -1.25254394,  9.3609831 , -0.10223624,\n",
      "        1.84311394, -0.99523636,  0.43299159, -0.90519243, -1.16696682,\n",
      "       -0.30903922,  7.00864873,  0.44527324,  1.4266838 ]))\n",
      "Shape of data array: (500, 14)\n"
     ]
    }
   ],
   "source": [
    "#Import Data: Load the data from a .csv file\n",
    "\n",
    "filename = \"house.csv\"\n",
    "Data = np.genfromtxt(filename, delimiter=';',skip_header=1)\n",
    "\n",
    "#A quick overview of data, to inspect the data you can use the method describe()\n",
    "\n",
    "dataDescription = stats.describe(Data)\n",
    "print(dataDescription)\n",
    "print (\"Shape of data array: \" + str(Data.shape))\n",
    "\n"
   ]
  },
  {
   "cell_type": "markdown",
   "metadata": {},
   "source": [
    "# Split data in training, validation and test sets\n",
    "\n",
    "\n",
    "\n",
    "Given $m$ total data, denote with $m_{tv}$ the part used for training and validation. Keep $m_t$ data as training data, $m_{val}:=m_{tv}-m_t$ as validation data and $m_{test}:=m - m_{val} - m_t = m-m_{tv}$. For instance one can take $m_t=0.6m$ of the data as training, $m_{val}=0.2m$  validation and $m_{test}=0.2m$ as testing. Let us define as define\n",
    "\n",
    "$\\bullet$ $S_{t}$ the training data set\n",
    "\n",
    "$\\bullet$ $S_{val}$ the validation data set\n",
    "\n",
    "$\\bullet$ $S_{test}$ the testing data set\n",
    "\n",
    "\n",
    "The reason for this splitting is as follows:\n",
    "\n",
    "TRAINING DATA: The training data are used to compute the empirical loss\n",
    "$$\n",
    "L_S(h) = \\frac{1}{m_t} \\sum_{z_i \\in S_{t}} \\ell(h,z_i)\n",
    "$$\n",
    "which is used to estimate $h$ in a given model class ${\\cal H}$.\n",
    "i.e. \n",
    "$$\n",
    "\\hat{h} = {\\rm arg\\; min}_{h \\in {\\cal H}} \\, L_S(h)\n",
    "$$\n",
    "\n",
    "VALIDATION DATA: When different model classes are present (e.g. of different complexity such as linear regression which uses a different number $d_j$ of regressors $x_1$,...$x_{d_j}$), one has to choose which one is the \"best\" complexity. In this simple example the validation set is not needed, but it is better to get used with it.\n",
    "Let ${\\cal H}_{d_j}$ be the space of models as a function of the complexity $d_j$ and let \n",
    "$$\n",
    "\\hat h_{d_j} = {\\rm arg\\; min}_{h \\in {\\cal H}_{d_j}} \\, L_S(h)\n",
    "$$\n",
    "\n",
    "One can estimate the generalization error for model $\\hat h_{d_j}$ as follows:\n",
    "$$\n",
    "L_{{\\cal D}}(\\hat h_{d_j}) \\simeq \\frac{1}{m_{val}} \\sum_{ z_i \\in S_{val}} \\ell(\\hat h_{d_j},z_i)\n",
    "$$\n",
    "and then choose the complexity which achieves the best estimate of the generalization error\n",
    "$$\n",
    "\\hat d_j: = {\\rm arg\\; min}_{d_j} \\,\\frac{1}{m_{val}} \\sum_{ z_i \\in S_{val}} \\ell(\\hat h_{d_j},z_i)\n",
    "$$\n",
    "\n",
    "TESTING DATA: Last, the test data set can be used to estimate the performance of the final estimated model\n",
    "$\\hat h_{\\hat d_j}$ using:\n",
    "$$\n",
    "L_{{\\cal D}}(\\hat h_{\\hat d_j}) \\simeq \\frac{1}{m_{test}} \\sum_{ z_i \\in S_{test}} \\ell(\\hat h_{\\hat d_j},z_i)\n",
    "$$\n",
    "\n"
   ]
  },
  {
   "cell_type": "code",
   "execution_count": 18,
   "metadata": {},
   "outputs": [
    {
     "name": "stdout",
     "output_type": "stream",
     "text": [
      "Total number of samples:  500\n",
      "Size of each chunk of data:  100\n",
      "Training input data size:  (300, 12)\n",
      "Training output data size:  (300,)\n",
      "Validation input data size:  (100, 12)\n",
      "Validation output data size:  (100,)\n",
      "Test input data size:  (100, 12)\n",
      "Test output data size:  (100,)\n"
     ]
    }
   ],
   "source": [
    "#get number of total samples\n",
    "num_total_samples = Data.shape[0]\n",
    "\n",
    "print (\"Total number of samples: \", num_total_samples)\n",
    "\n",
    "size_chunk = int(num_total_samples/5)\n",
    "\n",
    "print (\"Size of each chunk of data: \", size_chunk)\n",
    "\n",
    "#shuffle the data\n",
    "np.random.shuffle(Data)\n",
    "np.random.shuffle(Data)\n",
    "\n",
    "\n",
    "#training data \n",
    "#because data is randomised I'll use this simple way of separating data\n",
    "\n",
    "X_training = Data[0:3*size_chunk,0:12]\n",
    "Y_training = Data[0:3*size_chunk,12]\n",
    "print (\"Training input data size: \", X_training.shape)\n",
    "print (\"Training output data size: \", Y_training.shape)\n",
    "\n",
    "#validation data, to be used to choose among different models\n",
    "X_validation = Data[3*size_chunk:4*size_chunk,0:12]\n",
    "Y_validation = Data[3*size_chunk:4*size_chunk,12]\n",
    "print (\"Validation input data size: \", X_validation.shape)\n",
    "print (\"Validation output data size: \", Y_validation.shape)\n",
    "\n",
    "# #test data, to be used to estimate the true loss of the final model(s)\n",
    "X_test = Data[4*size_chunk:5*size_chunk,0:12]\n",
    "Y_test = Data[4*size_chunk:5*size_chunk,12]\n",
    "print (\"Test input data size: \", X_test.shape)\n",
    "print (\"Test output data size: \", Y_test.shape)"
   ]
  },
  {
   "cell_type": "markdown",
   "metadata": {},
   "source": [
    "# Data Normalization\n",
    "It is common practice in Statistics and Machine Learning to scale the data (= each variable) so that it is centered (zero mean) and has standard deviation equal to 1. This helps in terms of numerical conditioning of the (inverse) problems of estimating the model (the coefficients of the linear regression in this case), as well as to give the same scale to all the coefficients."
   ]
  },
  {
   "cell_type": "code",
   "execution_count": 19,
   "metadata": {},
   "outputs": [
    {
     "name": "stdout",
     "output_type": "stream",
     "text": [
      "Mean of the training input data: [-2.30001203e-16 -2.96059473e-17  3.28255941e-15  4.24845344e-16\n",
      " -3.82212780e-15  2.20934382e-16  5.97299987e-16  1.88552877e-15\n",
      " -6.32827124e-17 -1.81151390e-16  2.49555931e-14  5.05595565e-15]\n",
      "Std of the training input data: [1. 1. 1. 1. 1. 1. 1. 1. 1. 1. 1. 1.]\n",
      "Mean of the validation input data: [-0.05710448  0.09851731  0.00060545 -0.07838618 -0.0436047  -0.01680378\n",
      "  0.13228837  0.03197276 -0.14832087 -0.07417851 -0.07869183  0.18314533]\n",
      "Std of the validation input data: [0.90998696 1.18342612 1.00587982 0.85419359 0.95055702 1.03440261\n",
      " 0.89598249 0.96068321 0.89822825 0.91377605 1.1054354  0.67235716]\n",
      "Mean of the test input data: [-0.00779114 -0.04627885  0.17361355  0.07838618  0.14179563  0.07306848\n",
      "  0.17321814 -0.14280406  0.11729457  0.12047459  0.02185884 -0.02791406]\n",
      "Std of the test input data: [0.71040572 0.96230526 1.03087246 1.12163475 0.91764188 1.26707405\n",
      " 1.01632367 0.95082524 1.02057005 0.98712728 1.13063317 1.04319264]\n"
     ]
    }
   ],
   "source": [
    "#scale the data\n",
    "\n",
    "# standardize the input matrix\n",
    "from sklearn import preprocessing\n",
    "# the transformation is computed on training data and then used on all the 3 sets\n",
    "scaler = preprocessing.StandardScaler().fit(X_training) \n",
    "\n",
    "X_training = scaler.transform(X_training)\n",
    "print (\"Mean of the training input data:\", X_training.mean(axis=0))\n",
    "print (\"Std of the training input data:\",X_training.std(axis=0))\n",
    "\n",
    "X_validation = scaler.transform(X_validation) # use the same transformation on validation data\n",
    "print (\"Mean of the validation input data:\", X_validation.mean(axis=0))\n",
    "print (\"Std of the validation input data:\", X_validation.std(axis=0))\n",
    "\n",
    "X_test = scaler.transform(X_test) # use the same transformation on test data\n",
    "print (\"Mean of the test input data:\", X_test.mean(axis=0))\n",
    "print (\"Std of the test input data:\", X_test.std(axis=0))"
   ]
  },
  {
   "cell_type": "markdown",
   "metadata": {},
   "source": [
    "# Model Training \n",
    "\n",
    "The model is trained (= estimated) minimizing the empirical error\n",
    "$$\n",
    "L_S(h) := \\frac{1}{m_t} \\sum_{z_i \\in S_{t}} \\ell(h,z_i)\n",
    "$$\n",
    "When the loss function is the quadratic loss\n",
    "$$\n",
    "\\ell(h,z) := (y - h(x))^2\n",
    "$$\n",
    "we define  the Residual Sum of Squares (RSS) as\n",
    "$$\n",
    "RSS(h):= \\sum_{z_i \\in S_{t}} \\ell(h,z_i) = \\sum_{z_i \\in S_{t}} (y_i - h(x_i))^2\n",
    "$$ so that the training error becomes\n",
    "$$\n",
    "L_S(h) = \\frac{RSS(h)}{m_t}\n",
    "$$\n",
    "\n",
    "We recal that, for linear models we have $h(x) = <w,x>$ and the Empirical error $L_S(h)$ can be written\n",
    "in terms of the vector of parameters $w$ in the form\n",
    "$$\n",
    "L_S(w) = \\frac{1}{m_t} \\|Y - X w\\|^2\n",
    "$$\n",
    "where $Y$ and $X$ are the matrices whose $i-$th row are, respectively, the output data $y_i$ and the input vectors $x_i^\\top$.\n",
    "\n",
    "\n",
    " "
   ]
  },
  {
   "cell_type": "code",
   "execution_count": 20,
   "metadata": {},
   "outputs": [
    {
     "name": "stdout",
     "output_type": "stream",
     "text": [
      "LS coefficients with numpy lstsq: [12.70956667  0.35043687  0.49129734  0.79014799 -0.51003291  0.4395422\n",
      " -3.38201173  2.57793414 -0.02905018  0.85191811 -0.46007333  0.11017639\n",
      " -0.77928314]\n",
      "RSS calculated by hand:  4595.260758363394\n",
      "RSS with numpy lstsq:  [4595.26075836]\n",
      "Empirical risk with numpy lstsq: [15.31753586]\n"
     ]
    }
   ],
   "source": [
    "#compute linear regression coefficients for training data\n",
    "\n",
    "\n",
    "#add a 1 at the beginning of each sample for training, validation, and testing (use homogeneous coordinates)\n",
    "m_training = X_training.shape[0]\n",
    "X_trainingH = np.hstack((np.ones((m_training,1)),X_training)) # H: in homogeneous coordinates\n",
    "\n",
    "\n",
    "m_validation = X_validation.shape[0]\n",
    "X_validationH = np.hstack((np.ones((m_validation,1)),X_validation))  # H: in homogeneous coordinates\n",
    "\n",
    "\n",
    "m_test = X_test.shape[0]\n",
    "X_testH = np.hstack((np.ones((m_test,1)),X_test))  # H: in homogeneous coordinates\n",
    "  \n",
    "\n",
    "# Compute the least-squares coefficients using linalg.lstsq\n",
    "w_np, RSStr_np, rank_Xtr, sv_Xtr =  np.linalg.lstsq(X_trainingH,Y_training,rcond=None)\n",
    "print(\"LS coefficients with numpy lstsq:\", w_np)\n",
    "\n",
    "\n",
    "# compute Residual sums of squares\n",
    "RSStr_hand = 0\n",
    "for i in range(len(Y_training)):\n",
    "    RSStr_hand += (Y_training[i] - sum(X_trainingH[i].T*w_np))**2\n",
    "    \n",
    "print(\"RSS calculated by hand: \", RSStr_hand)\n",
    "print(\"RSS with numpy lstsq: \", RSStr_np)\n",
    "print(\"Empirical risk with numpy lstsq:\", RSStr_np/m_training)"
   ]
  },
  {
   "cell_type": "markdown",
   "metadata": {},
   "source": [
    "## Data prediction \n",
    "\n",
    "Compute the output predictions on both training and validation set and compute the Residual Sum of Sqaures (RSS). "
   ]
  },
  {
   "cell_type": "code",
   "execution_count": 21,
   "metadata": {},
   "outputs": [
    {
     "name": "stdout",
     "output_type": "stream",
     "text": [
      "RSS on validation data: 1447.830413543474\n",
      "Loss estimated from validation data: 14.478304135434739\n",
      "RSS on test data: 2820.9457492489646\n",
      "Loss estimated from test data: 28.209457492489648\n"
     ]
    }
   ],
   "source": [
    "#compute predictions on training and validation\n",
    "\n",
    "#prediction_training\n",
    "prediction_training = np.array([])\n",
    "\n",
    "for i in range(len(Y_training)):\n",
    "    prediction_training = np.append(prediction_training, np.dot(X_trainingH,w_np))\n",
    "\n",
    "\n",
    "prediction_validation = np.array([])\n",
    "prediction_validation = np.append(prediction_validation, np.dot(X_validationH,w_np))\n",
    "\n",
    "\n",
    "prediction_test = np.array([])\n",
    "prediction_test = np.append(prediction_test, np.dot(X_testH,w_np))\n",
    "\n",
    "\n",
    "# #what about the loss for points in the validation data?\n",
    "RSS_validation = 0\n",
    "for i in range(len(Y_validation)):\n",
    "    RSS_validation += (Y_validation[i] - prediction_validation[i])**2\n",
    "    \n",
    "\n",
    "RSS_test = 0\n",
    "for i in range(len(Y_test)):\n",
    "    RSS_test += (Y_test[i] - prediction_test[i])**2\n",
    "\n",
    "print(\"RSS on validation data:\",  RSS_validation)\n",
    "print(\"Loss estimated from validation data:\", RSS_validation/m_validation)\n",
    "\n",
    "print(\"RSS on test data:\",  RSS_test)\n",
    "print(\"Loss estimated from test data:\", RSS_test/m_test)"
   ]
  },
  {
   "cell_type": "markdown",
   "metadata": {},
   "source": [
    "## Ordinary Least-Squares using scikit-learn\n",
    "Another fast way to compute the LS estimate is through sklearn.linear_model (for this function homogeneous coordinates are not needed)."
   ]
  },
  {
   "cell_type": "code",
   "execution_count": 22,
   "metadata": {},
   "outputs": [
    {
     "name": "stdout",
     "output_type": "stream",
     "text": [
      "Intercept: 12.709566666666666\n",
      "Least-Squares Coefficients: [ 0.35043687  0.49129734  0.79014799 -0.51003291  0.4395422  -3.38201173\n",
      "  2.57793414 -0.02905018  0.85191811 -0.46007333  0.11017639 -0.77928314]\n",
      "Loss estimated from test data (LinReg version) 28.20945749248966\n",
      "Measure on training data: 0.3020252159048825\n"
     ]
    }
   ],
   "source": [
    "from sklearn import linear_model\n",
    "\n",
    "# build the LinearRegression() model and train it\n",
    "LinReg = linear_model.LinearRegression()\n",
    "LinReg.fit(X_training,Y_training)\n",
    "\n",
    "\n",
    "\n",
    "print(\"Intercept:\", LinReg.intercept_)\n",
    "print(\"Least-Squares Coefficients:\", LinReg.coef_)\n",
    "\n",
    "# predict output values on training and test sets\n",
    "\n",
    "prediction_training = LinReg.predict(X_training)\n",
    "\n",
    "prediction_test = LinReg.predict(X_test)\n",
    "\n",
    "\n",
    "# just to make sure that the test error is the same\n",
    "RSS_test = 0\n",
    "for i in range(len(Y_test)):\n",
    "    RSS_test += (Y_test[i] - prediction_test[i])**2\n",
    "print(\"Loss estimated from test data (LinReg version)\", RSS_test/m_test)\n",
    "\n",
    "\n",
    "# return a prediction score based on the coefficient of determination\n",
    "print(\"Measure on training data:\", 1-LinReg.score(X_training, Y_training))"
   ]
  }
 ],
 "metadata": {
  "anaconda-cloud": {},
  "kernelspec": {
   "display_name": "Python 3 (ipykernel)",
   "language": "python",
   "name": "python3"
  },
  "language_info": {
   "codemirror_mode": {
    "name": "ipython",
    "version": 3
   },
   "file_extension": ".py",
   "mimetype": "text/x-python",
   "name": "python",
   "nbconvert_exporter": "python",
   "pygments_lexer": "ipython3",
   "version": "3.12.0"
  }
 },
 "nbformat": 4,
 "nbformat_minor": 4
}
